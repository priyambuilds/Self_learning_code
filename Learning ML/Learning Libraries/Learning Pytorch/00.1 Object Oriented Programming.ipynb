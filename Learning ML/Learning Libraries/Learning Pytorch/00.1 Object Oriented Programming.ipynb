{
 "cells": [
  {
   "cell_type": "markdown",
   "metadata": {},
   "source": [
    "# What is OOPS?\n",
    "\n",
    "Object-oriented programming (OOP) in Python helps you structure your code by grouping related data and behaviors into objects. You start by defining classes, which act as blueprints, and then create objects from them. OOP simplifies modeling real-world concepts in your programs and enables you to build systems that are more reusable and scalable."
   ]
  },
  {
   "cell_type": "markdown",
   "metadata": {},
   "source": [
    "For example, an object could represent a person with properties like a name, age, and address and behaviors such as walking, talking, breathing, and running. "
   ]
  },
  {
   "cell_type": "markdown",
   "metadata": {},
   "source": [
    "#### four tenants of OOP:\n",
    "\n",
    "- **Encapsulation** allows you to bundle data (attributes) and behaviors (methods) within a class to create a cohesive unit. By defining methods to control access to attributes and its modification, encapsulation helps maintain data integrity and promotes modular, secure code.\n",
    "\n",
    "- **Inheritance** enables the creation of hierarchical relationships between classes, allowing a subclass to inherit attributes and methods from a parent class. This promotes code reuse and reduces duplication.\n",
    "\n",
    "- **Abstraction** focuses on hiding implementation details and exposing only the essential functionality of an object. By enforcing a consistent interface, abstraction simplifies interactions with objects, allowing developers to focus on what an object does rather than how it achieves its functionality.\n",
    "\n",
    "- **Polymorphism** allows you to treat objects of different types as instances of the same base type, as long as they implement a common interface or behavior. Python’s duck typing make it especially suited for polymorphism, as it allows you to access attributes and methods on objects without needing to worry about their actual class."
   ]
  },
  {
   "cell_type": "markdown",
   "metadata": {},
   "source": [
    "## How Do You Define a Class in Python?\n",
    "In Python, you define a class by using the `class` keyword followed by a name and a colon. Then you use `.__init__()` to declare which attributes each instance of the class should have:"
   ]
  },
  {
   "cell_type": "code",
   "execution_count": 1,
   "metadata": {},
   "outputs": [],
   "source": [
    "class Employee:\n",
    "    def __init__(self, name, age, salary):\n",
    "        self.name = name\n",
    "        self.age = age\n",
    "        self.salary = salary"
   ]
  },
  {
   "cell_type": "markdown",
   "metadata": {},
   "source": [
    "Primitive data structures—like numbers, strings, and lists—are designed to represent straightforward pieces of information, such as the cost of an apple, the name of a poem, or your favorite colors, respectively. What if you want to represent something more complex?"
   ]
  },
  {
   "cell_type": "code",
   "execution_count": 2,
   "metadata": {},
   "outputs": [],
   "source": [
    "kirk = [\"James Kirk\", 34, \"Captain\", 2265]\n",
    "spock = [\"Spock\", 35, \"Science Officer\", 2254]\n",
    "mccoy = [\"Leonard McCoy\", \"Chief Medical Officer\", 2266]"
   ]
  },
  {
   "cell_type": "markdown",
   "metadata": {},
   "source": [
    "There are a number of issues with this approach.\n",
    "First, it can make larger code files more difficult to manage. If you reference kirk[`0`] several lines away from where you declared the `kirk` list, will you remember that the element with index `0` is the employee’s name?\n",
    "\n",
    "Second, it can introduce errors if employees don’t have the same number of elements in their respective lists. In the `mccoy` list above, the age is missing, so `mccoy[1]` will return \"`Chief Medical Officer`\" instead of Dr. McCoy’s age."
   ]
  },
  {
   "cell_type": "markdown",
   "metadata": {},
   "source": [
    "A great way to make this type of code more manageable and more maintainable is to use classes."
   ]
  },
  {
   "cell_type": "markdown",
   "metadata": {},
   "source": [
    "# Classes\n",
    "A class is a blueprint for how to define something. It doesn’t actually contain any data. The `Dog` class specifies that a name and an age are necessary for defining a dog, but it doesn’t contain the name or age of any specific dog."
   ]
  },
  {
   "cell_type": "markdown",
   "metadata": {},
   "source": [
    "# Instance\n",
    "While the class is the blueprint, an instance is an object that’s built from a class and contains real data. An instance of the `Dog` class is not a blueprint anymore. It’s an actual dog with a name, like Miles, who’s four years old."
   ]
  },
  {
   "cell_type": "markdown",
   "metadata": {},
   "source": [
    "Put another way, a class is like a form or questionnaire. An instance is like a form that you’ve filled out with information. Just like many people can fill out the same form with their own unique information, you can create many instances from a single class."
   ]
  },
  {
   "cell_type": "markdown",
   "metadata": {},
   "source": [
    "You define the properties that all `Dog` objects must have in a method called `.__init__()`. Every time you create a new `Dog` object, .`__init__()` sets the initial state of the object by assigning the values of the object’s properties. That is, `.__init__()` initializes each new instance of the class.\n",
    "\n",
    "You can give `.__init__()` any number of parameters, but the first parameter will always be a `variable` called `self`. When you create a new class instance, then Python automatically passes the instance to the self parameter in `.__init__()` so that Python can define the new attributes on the object."
   ]
  },
  {
   "cell_type": "code",
   "execution_count": 3,
   "metadata": {},
   "outputs": [],
   "source": [
    "class Dog:\n",
    "    def __init__(self, name, age):\n",
    "        self.name = name\n",
    "        self.age = age"
   ]
  },
  {
   "cell_type": "markdown",
   "metadata": {},
   "source": [
    "# Instance vs Class Attributes in Python\n",
    "\n",
    "In the body of `.__init__()`, there are two statements using the `self` variable:\n",
    "\n",
    "- `self.name = name` creates an attribute called `name` and assigns the value of the `name` parameter to it.\n",
    "- `self.age = age` creates an attribute called `age` and assigns the value of the `age` parameter to it.\n",
    "\n",
    "Attributes created in `.__init__()` are called **instance attributes**. An instance attribute’s value is specific to a particular instance of the class. All `Dog` objects have a `name` and an `age`, but the values for the `name` and `age` attributes will vary depending on the `Dog` instance.\n",
    "\n",
    "On the other hand, **class attributes** are attributes that have the same value for all class instances. You can define a class attribute by assigning a value to a variable name outside of `.__init__()`.\n",
    "\n",
    "For example, the following `Dog` class has a class attribute called `species` with the value `\"Canis familiaris\"`:\n"
   ]
  },
  {
   "cell_type": "code",
   "execution_count": 4,
   "metadata": {},
   "outputs": [],
   "source": [
    "class Dog:\n",
    "    species = \"Canis familiaris\"  # Class attribute\n",
    "\n",
    "    def __init__(self, name, age):\n",
    "        self.name = name  # Instance attribute\n",
    "        self.age = age    # Instance attribute"
   ]
  },
  {
   "cell_type": "markdown",
   "metadata": {},
   "source": [
    "To pass arguments to the `name` and `age` parameters, put values into the parentheses after the class name:"
   ]
  },
  {
   "cell_type": "markdown",
   "metadata": {},
   "source": [
    "````Python\n",
    ">>> miles = Dog(\"Miles\", 4)\n",
    ">>> buddy = Dog(\"Buddy\", 9)"
   ]
  },
  {
   "cell_type": "markdown",
   "metadata": {},
   "source": [
    "This creates two new Dog instances—one for a four-year-old dog named Miles and one for a nine-year-old dog named Buddy."
   ]
  },
  {
   "cell_type": "markdown",
   "metadata": {},
   "source": [
    "The Dog class’s `.__init__()` method has three parameters, so why are you only passing two arguments to it in the example?\n",
    "\n",
    "When you instantiate the `Dog` class, Python creates a new instance of Dog and passes it to the first parameter of `.__init__()`. This essentially removes the `self` parameter, so you only need to worry about the `name` and `age` parameters."
   ]
  },
  {
   "cell_type": "markdown",
   "metadata": {},
   "source": [
    "After you create the Dog instances, you can access their instance attributes using dot notation:"
   ]
  },
  {
   "cell_type": "markdown",
   "metadata": {},
   "source": [
    "````python\n",
    ">>> miles.name\n",
    "'Miles'\n",
    ">>> miles.age\n",
    "4\n",
    ">>> buddy.name\n",
    "'Buddy'\n",
    ">>> buddy.age\n",
    "9\n",
    ">>> buddy.species\n",
    "'Canis familiaris'"
   ]
  },
  {
   "cell_type": "markdown",
   "metadata": {},
   "source": [
    "## Instance Methods\n",
    "Instance methods are functions that you define inside a class and can only call on an instance of that class. Just like `.__init__()`, an instance method always takes self as its first parameter.\n"
   ]
  },
  {
   "cell_type": "code",
   "execution_count": 5,
   "metadata": {},
   "outputs": [],
   "source": [
    "class Dog:\n",
    "    species = \"Canis familiaris\"\n",
    "\n",
    "    def __init__(self, name, age):\n",
    "        self.name = name\n",
    "        self.age = age\n",
    "\n",
    "    # Instance method\n",
    "    def description(self):\n",
    "        return f\"{self.name} is {self.age} years old\"\n",
    "\n",
    "    # Another instance method\n",
    "    def speak(self, sound):\n",
    "        return f\"{self.name} says {sound}\""
   ]
  },
  {
   "cell_type": "markdown",
   "metadata": {},
   "source": [
    "````python\n",
    ">>> miles = Dog(\"Miles\", 4)\n",
    "\n",
    ">>> miles.description()\n",
    "'Miles is 4 years old'\n",
    "\n",
    ">>> miles.speak(\"Woof Woof\")\n",
    "'Miles says Woof Woof'\n",
    "\n",
    ">>> miles.speak(\"Bow Wow\")\n",
    "'Miles says Bow Wow'"
   ]
  },
  {
   "cell_type": "markdown",
   "metadata": {},
   "source": [
    "This Dog class has two instance methods:\n",
    "\n",
    "- `.description()` returns a string displaying the name and age of the dog.\n",
    "- `.speak()` has one parameter called sound and returns a string containing the dog’s name and the sound that the dog makes."
   ]
  },
  {
   "cell_type": "markdown",
   "metadata": {},
   "source": [
    "### Dunder methods\n",
    "Methods like .__init__() and .__str__() are called dunder methods because they begin and end with double underscores."
   ]
  },
  {
   "cell_type": "markdown",
   "metadata": {},
   "source": [
    "Go ahead and print the miles object to see what output you get:\n",
    "\n",
    "````python\n",
    ">>> print(miles)\n",
    "<__main__.Dog object at 0x00aeff70>\n",
    "````\n",
    "When you create a list object, you can use print() to display a string that looks like the list:\n",
    "\n",
    "````python\n",
    ">>> names = [\"Miles\", \"Buddy\", \"Jack\"]\n",
    ">>> print(names)\n",
    "['Miles', 'Buddy', 'Jack']\n",
    "````\n"
   ]
  },
  {
   "cell_type": "markdown",
   "metadata": {},
   "source": [
    "When you print `miles`, you get a cryptic-looking message telling you that miles is a Dog object at the memory address `0x00aeff70`. This message isn’t very helpful. You can change what gets printed by defining a special instance method called `.__str__()`.\n",
    "\n",
    "In the editor window, change the name of the Dog class’s `.description()` method to `.__str__()`:"
   ]
  },
  {
   "cell_type": "markdown",
   "metadata": {},
   "source": [
    "````python\n",
    "class Dog:\n",
    "    # ...\n",
    "\n",
    "    def __str__(self):\n",
    "        return f\"{self.name} is {self.age} years old\"\n",
    "````\n",
    "Now, when you print miles, you get a much friendlier output:\n",
    "````python\n",
    ">>> miles = Dog(\"Miles\", 4)\n",
    ">>> print(miles)\n",
    "'Miles is 4 years old'"
   ]
  },
  {
   "cell_type": "markdown",
   "metadata": {},
   "source": [
    "# How Do You Inherit From Another Class in Python?\n",
    "Inheritance is the process by which one class takes on the attributes and methods of another. Newly formed classes are called child classes, and the classes that you derive child classes from are called parent classes."
   ]
  },
  {
   "cell_type": "code",
   "execution_count": 6,
   "metadata": {},
   "outputs": [],
   "source": [
    "class Parent:\n",
    "    hair_color = \"brown\"\n",
    "\n",
    "class Child(Parent):\n",
    "    pass"
   ]
  },
  {
   "cell_type": "markdown",
   "metadata": {},
   "source": [
    "In this minimal example, the child class Child inherits from the parent class Parent. Because child classes take on the attributes and methods of parent classes, `Child.hair_color` is also \"`brown`\" without your explicitly defining that."
   ]
  },
  {
   "cell_type": "markdown",
   "metadata": {},
   "source": [
    "# Parent Classes vs Child Classes"
   ]
  },
  {
   "cell_type": "markdown",
   "metadata": {},
   "source": [
    "````python\n",
    "class Dog:\n",
    "    species = \"Canis familiaris\"\n",
    "\n",
    "    def __init__(self, name, age):\n",
    "        self.name = name\n",
    "        self.age = age\n",
    "\n",
    "    def __str__(self):\n",
    "        return f\"{self.name} is {self.age} years old\"\n",
    "\n",
    "    def speak(self, sound):\n",
    "        return f\"{self.name} says {sound}\"\n",
    " ````\n",
    "\n",
    "After doing the dog park example in the previous section, you’ve removed `.breed` again. You’ll now write code to keep track of a dog’s breed using child classes instead.\n",
    "\n",
    "\n",
    "````python\n",
    "\n",
    "class JackRussellTerrier(Dog):\n",
    "    pass\n",
    "\n",
    "class Dachshund(Dog):\n",
    "    pass\n",
    "\n",
    "class Bulldog(Dog):\n",
    "    pass\n",
    "````\n",
    "\n",
    "With the child classes defined, you can now create some dogs of specific breeds in the interactive window:\n",
    "````python\n",
    ">>> miles = JackRussellTerrier(\"Miles\", 4)\n",
    ">>> buddy = Dachshund(\"Buddy\", 9)\n",
    ">>> jack = Bulldog(\"Jack\", 3)\n",
    ">>> jim = Bulldog(\"Jim\", 5)\n",
    "````\n",
    "\n",
    "Instances of child classes inherit all of the attributes and methods of the parent class:\n",
    "\n",
    "````python\n",
    ">>> miles.species\n",
    "'Canis familiaris'\n",
    "\n",
    ">>> buddy.name\n",
    "'Buddy'\n",
    "\n",
    ">>> print(jack)\n",
    "Jack is 3 years old\n",
    "\n",
    ">>> jim.speak(\"Woof\")\n",
    "'Jim says Woof'\n",
    "````\n",
    "\n",
    "To determine which class a given object belongs to, you can use the built-in `type()`:\n",
    "\n",
    "````python\n",
    ">>> type(miles)\n",
    "<class '__main__.JackRussellTerrier'>\n",
    "````\n",
    "\n",
    "What if you want to determine if miles is also an instance of the Dog class? You can do this with the built-in `isinstance()`:\n",
    "\n",
    "````python\n",
    ">>> isinstance(miles, Dog)\n",
    "True\n",
    "````\n",
    "\n",
    "Notice that isinstance() takes two arguments, an object and a class. In the example above, `isinstance()` checks if miles is an instance of the Dog class and returns True.\n",
    "\n",
    "The `miles`, `buddy`, `jack`, and `jim` objects are all `Dog` instances, but `miles` isn’t a `Bulldog` instance, and `jack` isn’t a `Dachshund` instance:\n",
    "\n",
    "````python\n",
    ">>> isinstance(miles, Bulldog)\n",
    "False\n",
    "\n",
    ">>> isinstance(jack, Dachshund)\n",
    "False\n",
    "````\n",
    "\n",
    "More generally, all objects created from a child class are instances of the parent class, although they may not be instances of other child classes."
   ]
  }
 ],
 "metadata": {
  "kernelspec": {
   "display_name": "cloudspace",
   "language": "python",
   "name": "python3"
  },
  "language_info": {
   "codemirror_mode": {
    "name": "ipython",
    "version": 3
   },
   "file_extension": ".py",
   "mimetype": "text/x-python",
   "name": "python",
   "nbconvert_exporter": "python",
   "pygments_lexer": "ipython3",
   "version": "3.13.2"
  }
 },
 "nbformat": 4,
 "nbformat_minor": 2
}
